{
  "cells": [
    {
      "cell_type": "markdown",
      "id": "fd8284c7",
      "metadata": {
        "id": "fd8284c7"
      },
      "source": [
        "# Road Traffic Vehicle Counting Exam"
      ]
    },
    {
      "cell_type": "markdown",
      "id": "90e8c1a5",
      "metadata": {
        "id": "90e8c1a5"
      },
      "source": [
        "In this exam, you will use the YOLO (You Only Look Once) object detection model to analyze a video of road traffic. Your primary task is to count the number of vehicles exiting the road at each of the four exits (located at the top, bottom, left, and right of the frame). The video for this task is provided at `Datasets/YOLO_Exam_Video.mp4`.\n",
        "\n",
        "## Objectives\n",
        "- Load and process the video using OpenCV.\n",
        "- Utilize the YOLO model to detect vehicles in each frame.\n",
        "- Manipulate the video frames using OpenCV.\n",
        "- Track vehicles as they move across the video frames.\n",
        "- Count the number of vehicles exiting via the top street.\n",
        "- Count the number of vehicles exiting via the bottom street.\n",
        "- Count the number of vehicles exiting via the left street.\n",
        "- Count the number of vehicles exiting via the right street.\n"
      ]
    },
    {
      "cell_type": "markdown",
      "id": "c7269b0e",
      "metadata": {
        "id": "c7269b0e"
      },
      "source": [
        "## Setup Environment"
      ]
    },
    {
      "cell_type": "markdown",
      "id": "2fd3bce8",
      "metadata": {
        "id": "2fd3bce8"
      },
      "source": [
        "Before you begin, ensure you have the necessary libraries installed. You will need `opencv`, and `ultralytics` among others.\n",
        "If these are not installed, you should install them."
      ]
    },
    {
      "cell_type": "code",
      "execution_count": 263,
      "id": "887c39ac",
      "metadata": {
        "colab": {
          "base_uri": "https://localhost:8080/"
        },
        "id": "887c39ac",
        "outputId": "ef1d7873-6ca1-432e-cbbe-a12040561782"
      },
      "outputs": [
        {
          "name": "stdout",
          "output_type": "stream",
          "text": [
            "Requirement already satisfied: ultralytics in /usr/local/lib/python3.10/dist-packages (8.2.85)\n",
            "Requirement already satisfied: numpy<2.0.0,>=1.23.0 in /usr/local/lib/python3.10/dist-packages (from ultralytics) (1.26.4)\n",
            "Requirement already satisfied: matplotlib>=3.3.0 in /usr/local/lib/python3.10/dist-packages (from ultralytics) (3.7.1)\n",
            "Requirement already satisfied: opencv-python>=4.6.0 in /usr/local/lib/python3.10/dist-packages (from ultralytics) (4.10.0.84)\n",
            "Requirement already satisfied: pillow>=7.1.2 in /usr/local/lib/python3.10/dist-packages (from ultralytics) (9.4.0)\n",
            "Requirement already satisfied: pyyaml>=5.3.1 in /usr/local/lib/python3.10/dist-packages (from ultralytics) (6.0.2)\n",
            "Requirement already satisfied: requests>=2.23.0 in /usr/local/lib/python3.10/dist-packages (from ultralytics) (2.32.3)\n",
            "Requirement already satisfied: scipy>=1.4.1 in /usr/local/lib/python3.10/dist-packages (from ultralytics) (1.13.1)\n",
            "Requirement already satisfied: torch>=1.8.0 in /usr/local/lib/python3.10/dist-packages (from ultralytics) (2.4.0+cu121)\n",
            "Requirement already satisfied: torchvision>=0.9.0 in /usr/local/lib/python3.10/dist-packages (from ultralytics) (0.19.0+cu121)\n",
            "Requirement already satisfied: tqdm>=4.64.0 in /usr/local/lib/python3.10/dist-packages (from ultralytics) (4.66.5)\n",
            "Requirement already satisfied: psutil in /usr/local/lib/python3.10/dist-packages (from ultralytics) (5.9.5)\n",
            "Requirement already satisfied: py-cpuinfo in /usr/local/lib/python3.10/dist-packages (from ultralytics) (9.0.0)\n",
            "Requirement already satisfied: pandas>=1.1.4 in /usr/local/lib/python3.10/dist-packages (from ultralytics) (2.1.4)\n",
            "Requirement already satisfied: seaborn>=0.11.0 in /usr/local/lib/python3.10/dist-packages (from ultralytics) (0.13.1)\n",
            "Requirement already satisfied: ultralytics-thop>=2.0.0 in /usr/local/lib/python3.10/dist-packages (from ultralytics) (2.0.6)\n",
            "Requirement already satisfied: contourpy>=1.0.1 in /usr/local/lib/python3.10/dist-packages (from matplotlib>=3.3.0->ultralytics) (1.2.1)\n",
            "Requirement already satisfied: cycler>=0.10 in /usr/local/lib/python3.10/dist-packages (from matplotlib>=3.3.0->ultralytics) (0.12.1)\n",
            "Requirement already satisfied: fonttools>=4.22.0 in /usr/local/lib/python3.10/dist-packages (from matplotlib>=3.3.0->ultralytics) (4.53.1)\n",
            "Requirement already satisfied: kiwisolver>=1.0.1 in /usr/local/lib/python3.10/dist-packages (from matplotlib>=3.3.0->ultralytics) (1.4.5)\n",
            "Requirement already satisfied: packaging>=20.0 in /usr/local/lib/python3.10/dist-packages (from matplotlib>=3.3.0->ultralytics) (24.1)\n",
            "Requirement already satisfied: pyparsing>=2.3.1 in /usr/local/lib/python3.10/dist-packages (from matplotlib>=3.3.0->ultralytics) (3.1.4)\n",
            "Requirement already satisfied: python-dateutil>=2.7 in /usr/local/lib/python3.10/dist-packages (from matplotlib>=3.3.0->ultralytics) (2.8.2)\n",
            "Requirement already satisfied: pytz>=2020.1 in /usr/local/lib/python3.10/dist-packages (from pandas>=1.1.4->ultralytics) (2024.1)\n",
            "Requirement already satisfied: tzdata>=2022.1 in /usr/local/lib/python3.10/dist-packages (from pandas>=1.1.4->ultralytics) (2024.1)\n",
            "Requirement already satisfied: charset-normalizer<4,>=2 in /usr/local/lib/python3.10/dist-packages (from requests>=2.23.0->ultralytics) (3.3.2)\n",
            "Requirement already satisfied: idna<4,>=2.5 in /usr/local/lib/python3.10/dist-packages (from requests>=2.23.0->ultralytics) (3.8)\n",
            "Requirement already satisfied: urllib3<3,>=1.21.1 in /usr/local/lib/python3.10/dist-packages (from requests>=2.23.0->ultralytics) (2.0.7)\n",
            "Requirement already satisfied: certifi>=2017.4.17 in /usr/local/lib/python3.10/dist-packages (from requests>=2.23.0->ultralytics) (2024.7.4)\n",
            "Requirement already satisfied: filelock in /usr/local/lib/python3.10/dist-packages (from torch>=1.8.0->ultralytics) (3.15.4)\n",
            "Requirement already satisfied: typing-extensions>=4.8.0 in /usr/local/lib/python3.10/dist-packages (from torch>=1.8.0->ultralytics) (4.12.2)\n",
            "Requirement already satisfied: sympy in /usr/local/lib/python3.10/dist-packages (from torch>=1.8.0->ultralytics) (1.13.2)\n",
            "Requirement already satisfied: networkx in /usr/local/lib/python3.10/dist-packages (from torch>=1.8.0->ultralytics) (3.3)\n",
            "Requirement already satisfied: jinja2 in /usr/local/lib/python3.10/dist-packages (from torch>=1.8.0->ultralytics) (3.1.4)\n",
            "Requirement already satisfied: fsspec in /usr/local/lib/python3.10/dist-packages (from torch>=1.8.0->ultralytics) (2024.6.1)\n",
            "Requirement already satisfied: six>=1.5 in /usr/local/lib/python3.10/dist-packages (from python-dateutil>=2.7->matplotlib>=3.3.0->ultralytics) (1.16.0)\n",
            "Requirement already satisfied: MarkupSafe>=2.0 in /usr/local/lib/python3.10/dist-packages (from jinja2->torch>=1.8.0->ultralytics) (2.1.5)\n",
            "Requirement already satisfied: mpmath<1.4,>=1.1.0 in /usr/local/lib/python3.10/dist-packages (from sympy->torch>=1.8.0->ultralytics) (1.3.0)\n"
          ]
        }
      ],
      "source": [
        "!pip install ultralytics"
      ]
    },
    {
      "cell_type": "code",
      "execution_count": 264,
      "id": "e48a05c4",
      "metadata": {
        "id": "e48a05c4"
      },
      "outputs": [],
      "source": [
        "from ultralytics import YOLO\n",
        "import cv2\n"
      ]
    },
    {
      "cell_type": "markdown",
      "id": "a69c2ac2",
      "metadata": {
        "id": "a69c2ac2"
      },
      "source": [
        "## Load the YOLO Model"
      ]
    },
    {
      "cell_type": "markdown",
      "id": "145d70fc",
      "metadata": {
        "id": "145d70fc"
      },
      "source": [
        "You will first need to load the YOLO model, there is a custom model for this exam called `YOLO_Model.pt` under Datasets file ⚠️ PLEASE USE THIS MODEL AND DO NOT USE ANY OTHER MODEL ⚠️.\n",
        "Write the code to load the YOLO model below:"
      ]
    },
    {
      "cell_type": "code",
      "execution_count": 265,
      "id": "7e580e4a",
      "metadata": {
        "id": "7e580e4a"
      },
      "outputs": [],
      "source": [
        "model_path = 'YOLO_Model.pt'\n",
        "model = YOLO(model_path)"
      ]
    },
    {
      "cell_type": "markdown",
      "id": "cf691ac8",
      "metadata": {
        "id": "cf691ac8"
      },
      "source": [
        "## Prepare the Video Capture"
      ]
    },
    {
      "cell_type": "markdown",
      "id": "Nw9RSvKCdonK",
      "metadata": {
        "id": "Nw9RSvKCdonK"
      },
      "source": [
        "Create a variable to capture the video frames, you can use `cv2.VideoCapture()` to achive this."
      ]
    },
    {
      "cell_type": "code",
      "execution_count": 266,
      "id": "81cfbca1",
      "metadata": {
        "id": "81cfbca1"
      },
      "outputs": [],
      "source": [
        "# getting the video\n",
        "video_path = 'YOLO_video_cut.mp4'\n",
        "cap = cv2.VideoCapture(video_path)"
      ]
    },
    {
      "cell_type": "markdown",
      "id": "48757309",
      "metadata": {
        "id": "48757309"
      },
      "source": [
        "## Get Video Information"
      ]
    },
    {
      "cell_type": "markdown",
      "id": "b4f5d5bc",
      "metadata": {
        "id": "b4f5d5bc"
      },
      "source": [
        "You can use `cv2` library to get these information fro the `VideoCapture()` variable you created to extract these information:\n",
        "* `height`: Video's height.\n",
        "* `width`: Video's width.\n",
        "* `fps`: Video's frames."
      ]
    },
    {
      "cell_type": "code",
      "execution_count": 267,
      "id": "cb8e5ceb",
      "metadata": {
        "id": "cb8e5ceb"
      },
      "outputs": [],
      "source": [
        "# Getting properties of the video\n",
        "w, h, fps = (int(cap.get(x)) for x in (cv2.CAP_PROP_FRAME_WIDTH, cv2.CAP_PROP_FRAME_HEIGHT, cv2.CAP_PROP_FPS))\n"
      ]
    },
    {
      "cell_type": "markdown",
      "id": "3f241495",
      "metadata": {
        "id": "3f241495"
      },
      "source": [
        "## Prepare Video Writer to Store the Output"
      ]
    },
    {
      "cell_type": "markdown",
      "id": "9ef61a34",
      "metadata": {
        "id": "9ef61a34"
      },
      "source": [
        "Create a variable that uses `cv2.VideoCapture()` to save the video with the bounding boxes, specified Region of Interest rectangle (ROI) and the counted vehicles on each sides. You will need to make the video with the same `fps`, `width`, `height`, and specify the codec and output path of the video."
      ]
    },
    {
      "cell_type": "code",
      "execution_count": 268,
      "id": "449562c2",
      "metadata": {
        "id": "449562c2"
      },
      "outputs": [],
      "source": [
        "output_path = 'output_video_final.mp4'\n",
        "fourcc = cv2.VideoWriter_fourcc(*'mp4v')\n",
        "video_writer = cv2.VideoWriter(output_path, fourcc, fps, (w, h))"
      ]
    },
    {
      "cell_type": "markdown",
      "id": "31e882a2",
      "metadata": {
        "id": "31e882a2"
      },
      "source": [
        "## Expermint to get the `(x1, y1, x2, y2)` of the ROI"
      ]
    },
    {
      "cell_type": "markdown",
      "id": "3b6e6d97",
      "metadata": {
        "id": "3b6e6d97"
      },
      "source": [
        "### Hint\n",
        "When defining the Regions of Interest (ROIs) for detecting vehicles exiting the road, consider the coordinates that outline the relevant areas. These coordinates can be specified as `(x1, y1, x2, y2)`, where `(x1, y1)` is the top-left corner and `(x2, y2)` is the bottom-right corner of the rectangle.\n",
        "\n",
        "Experiment with different coordinates to accurately cover the streets where vehicles exit. Visualize these ROIs by drawing rectangles on a frame of the video and adjust the coordinates as needed until you capture the desired areas effectively."
      ]
    },
    {
      "cell_type": "markdown",
      "id": "067dbc12",
      "metadata": {
        "id": "067dbc12"
      },
      "source": [
        "## Process Video Frames and Identify Vehicles Left the Road Form Each Street"
      ]
    },
    {
      "cell_type": "markdown",
      "id": "aa695d88",
      "metadata": {
        "id": "aa695d88"
      },
      "source": [
        "For each frame in the video, use the YOLO model to detect and track vehicles. You will need to write a loop that processes each frame and applies the YOLO model.\n",
        "\n",
        "In each frame, after detecting the vehicles, determine whether they exited the road via the top, bottom, left, or right street. You can use the positions of the bounding boxes provided by YOLO to do this.\n",
        "\n",
        "- The video should display bounding boxes around the detected objects.\n",
        "- The video should display your name on the top.\n",
        "- It should display the calculated center of each vehicle.\n",
        "- The video should display the confidence score, alongside the object ID and class ID of each detected and tracked object.\n",
        "- The video should display the rectangles representing the regions where you count the vehicles that have crossed and exited.\n",
        "- The video should display the number of vehicles that exited via the top street.\n",
        "- The video should display the number of vehicles that exited via the bottom street.\n",
        "- The video should display the number of vehicles that exited via the left street.\n",
        "- The video should display the number of vehicles that exited via the right street."
      ]
    },
    {
      "cell_type": "code",
      "execution_count": 271,
      "id": "Nx_QBhV7VGMG",
      "metadata": {
        "colab": {
          "base_uri": "https://localhost:8080/"
        },
        "id": "Nx_QBhV7VGMG",
        "outputId": "93c53241-0855-43a0-992a-8c446e704234"
      },
      "outputs": [
        {
          "name": "stdout",
          "output_type": "stream",
          "text": [
            "/content\n"
          ]
        }
      ],
      "source": [
        "!pwd"
      ]
    },
    {
      "cell_type": "code",
      "execution_count": 271,
      "id": "7540hyHGVAq9",
      "metadata": {
        "id": "7540hyHGVAq9"
      },
      "outputs": [],
      "source": []
    },
    {
      "cell_type": "code",
      "execution_count": 272,
      "id": "JIki4mHJWHaW",
      "metadata": {
        "colab": {
          "base_uri": "https://localhost:8080/"
        },
        "id": "JIki4mHJWHaW",
        "outputId": "4d9ffbcf-695f-43a2-b1de-f2f1873d6b71"
      },
      "outputs": [
        {
          "name": "stdout",
          "output_type": "stream",
          "text": [
            "output_video_final.mp4\tsample_data  YOLO_Model.pt\t YOLO_Video.mp4\n",
            "output_video.mp4\tsort\t     YOLO_video_cut.mp4\n"
          ]
        }
      ],
      "source": [
        "!ls"
      ]
    },
    {
      "cell_type": "code",
      "execution_count": 273,
      "id": "Q9ArQ3MDsCfE",
      "metadata": {
        "id": "Q9ArQ3MDsCfE"
      },
      "outputs": [],
      "source": [
        "top_count = 0\n",
        "bottom_count = 0\n",
        "left_count = 0\n",
        "right_count = 0\n",
        "\n",
        "top_counted_ids = set()\n",
        "bottom_counted_ids = set()\n",
        "left_counted_ids = set()\n",
        "right_counted_ids = set()"
      ]
    },
    {
      "cell_type": "code",
      "execution_count": 274,
      "id": "svhKsmXssFxt",
      "metadata": {
        "id": "svhKsmXssFxt"
      },
      "outputs": [],
      "source": [
        "top_line_points = [(int(w * 0.1), int(h * 0.2)), (int(w * 0.9), int(h * 0.2))]\n",
        "bottom_line_points = [(int(w * 0.1), int(h * 0.8)), (int(w * 0.9), int(h * 0.8))]\n",
        "left_line_points = [(int(w * 0.2), int(h * 0.1)), (int(w * 0.2), int(h * 0.9))]\n",
        "right_line_points = [(int(w * 0.8), int(h * 0.1)), (int(w * 0.8), int(h * 0.9))]\n",
        "\n"
      ]
    },
    {
      "cell_type": "code",
      "execution_count": 275,
      "id": "877d1d56",
      "metadata": {
        "colab": {
          "base_uri": "https://localhost:8080/"
        },
        "id": "877d1d56",
        "outputId": "59c259bf-a1e4-4b11-d8aa-dc9e69b01bd7"
      },
      "outputs": [
        {
          "name": "stdout",
          "output_type": "stream",
          "text": [
            "\n",
            "0: 384x640 2 buss, 82 cars, 2 trucks, 2 vans, 64.7ms\n",
            "Speed: 2.5ms preprocess, 64.7ms inference, 1.5ms postprocess per image at shape (1, 3, 384, 640)\n",
            "\n",
            "0: 384x640 2 buss, 82 cars, 2 trucks, 2 vans, 49.6ms\n",
            "Speed: 3.2ms preprocess, 49.6ms inference, 1.5ms postprocess per image at shape (1, 3, 384, 640)\n",
            "\n",
            "0: 384x640 2 buss, 82 cars, 2 trucks, 2 vans, 48.5ms\n",
            "Speed: 3.0ms preprocess, 48.5ms inference, 1.4ms postprocess per image at shape (1, 3, 384, 640)\n",
            "\n",
            "0: 384x640 2 buss, 82 cars, 2 trucks, 2 vans, 42.1ms\n",
            "Speed: 4.1ms preprocess, 42.1ms inference, 1.4ms postprocess per image at shape (1, 3, 384, 640)\n",
            "\n",
            "0: 384x640 2 buss, 82 cars, 2 trucks, 2 vans, 40.7ms\n",
            "Speed: 3.2ms preprocess, 40.7ms inference, 1.5ms postprocess per image at shape (1, 3, 384, 640)\n",
            "\n",
            "0: 384x640 2 buss, 82 cars, 2 trucks, 2 vans, 41.7ms\n",
            "Speed: 3.8ms preprocess, 41.7ms inference, 2.2ms postprocess per image at shape (1, 3, 384, 640)\n",
            "\n",
            "0: 384x640 2 buss, 82 cars, 2 trucks, 2 vans, 41.0ms\n",
            "Speed: 3.0ms preprocess, 41.0ms inference, 1.4ms postprocess per image at shape (1, 3, 384, 640)\n",
            "\n",
            "0: 384x640 2 buss, 84 cars, 2 trucks, 2 vans, 39.5ms\n",
            "Speed: 3.0ms preprocess, 39.5ms inference, 1.3ms postprocess per image at shape (1, 3, 384, 640)\n",
            "\n",
            "0: 384x640 2 buss, 85 cars, 2 trucks, 2 vans, 39.6ms\n",
            "Speed: 3.5ms preprocess, 39.6ms inference, 1.3ms postprocess per image at shape (1, 3, 384, 640)\n",
            "\n",
            "0: 384x640 2 buss, 85 cars, 2 trucks, 2 vans, 39.5ms\n",
            "Speed: 3.1ms preprocess, 39.5ms inference, 1.5ms postprocess per image at shape (1, 3, 384, 640)\n",
            "\n",
            "0: 384x640 2 buss, 85 cars, 2 trucks, 2 vans, 39.5ms\n",
            "Speed: 4.8ms preprocess, 39.5ms inference, 1.6ms postprocess per image at shape (1, 3, 384, 640)\n",
            "\n",
            "0: 384x640 2 buss, 85 cars, 2 trucks, 2 vans, 39.6ms\n",
            "Speed: 3.8ms preprocess, 39.6ms inference, 1.7ms postprocess per image at shape (1, 3, 384, 640)\n",
            "\n",
            "0: 384x640 2 buss, 84 cars, 2 trucks, 3 vans, 39.5ms\n",
            "Speed: 2.9ms preprocess, 39.5ms inference, 1.4ms postprocess per image at shape (1, 3, 384, 640)\n",
            "\n",
            "0: 384x640 2 buss, 84 cars, 2 trucks, 3 vans, 39.6ms\n",
            "Speed: 3.4ms preprocess, 39.6ms inference, 2.2ms postprocess per image at shape (1, 3, 384, 640)\n",
            "\n",
            "0: 384x640 2 buss, 84 cars, 2 trucks, 3 vans, 39.5ms\n",
            "Speed: 2.7ms preprocess, 39.5ms inference, 1.3ms postprocess per image at shape (1, 3, 384, 640)\n",
            "\n",
            "0: 384x640 2 buss, 83 cars, 2 trucks, 4 vans, 39.6ms\n",
            "Speed: 3.3ms preprocess, 39.6ms inference, 1.5ms postprocess per image at shape (1, 3, 384, 640)\n",
            "\n",
            "0: 384x640 2 buss, 83 cars, 2 trucks, 4 vans, 39.6ms\n",
            "Speed: 3.0ms preprocess, 39.6ms inference, 2.0ms postprocess per image at shape (1, 3, 384, 640)\n",
            "\n",
            "0: 384x640 2 buss, 83 cars, 2 trucks, 4 vans, 39.5ms\n",
            "Speed: 3.3ms preprocess, 39.5ms inference, 2.1ms postprocess per image at shape (1, 3, 384, 640)\n",
            "\n",
            "0: 384x640 2 buss, 83 cars, 1 truck, 4 vans, 39.6ms\n",
            "Speed: 5.1ms preprocess, 39.6ms inference, 1.8ms postprocess per image at shape (1, 3, 384, 640)\n",
            "\n",
            "0: 384x640 2 buss, 85 cars, 1 truck, 3 vans, 39.7ms\n",
            "Speed: 3.0ms preprocess, 39.7ms inference, 1.4ms postprocess per image at shape (1, 3, 384, 640)\n",
            "\n",
            "0: 384x640 2 buss, 85 cars, 1 truck, 3 vans, 43.3ms\n",
            "Speed: 2.8ms preprocess, 43.3ms inference, 1.5ms postprocess per image at shape (1, 3, 384, 640)\n",
            "\n",
            "0: 384x640 2 buss, 85 cars, 1 truck, 3 vans, 43.9ms\n",
            "Speed: 3.1ms preprocess, 43.9ms inference, 1.5ms postprocess per image at shape (1, 3, 384, 640)\n",
            "\n",
            "0: 384x640 2 buss, 86 cars, 1 truck, 2 vans, 43.9ms\n",
            "Speed: 3.8ms preprocess, 43.9ms inference, 1.4ms postprocess per image at shape (1, 3, 384, 640)\n",
            "\n",
            "0: 384x640 2 buss, 86 cars, 1 truck, 2 vans, 41.1ms\n",
            "Speed: 3.1ms preprocess, 41.1ms inference, 1.4ms postprocess per image at shape (1, 3, 384, 640)\n",
            "\n",
            "0: 384x640 2 buss, 85 cars, 2 trucks, 2 vans, 40.0ms\n",
            "Speed: 3.1ms preprocess, 40.0ms inference, 1.5ms postprocess per image at shape (1, 3, 384, 640)\n",
            "\n",
            "0: 384x640 2 buss, 85 cars, 2 trucks, 2 vans, 40.0ms\n",
            "Speed: 2.9ms preprocess, 40.0ms inference, 1.4ms postprocess per image at shape (1, 3, 384, 640)\n",
            "\n",
            "0: 384x640 2 buss, 85 cars, 2 trucks, 2 vans, 40.0ms\n",
            "Speed: 3.3ms preprocess, 40.0ms inference, 1.9ms postprocess per image at shape (1, 3, 384, 640)\n",
            "\n",
            "0: 384x640 2 buss, 85 cars, 1 truck, 3 vans, 40.0ms\n",
            "Speed: 2.8ms preprocess, 40.0ms inference, 1.4ms postprocess per image at shape (1, 3, 384, 640)\n",
            "\n",
            "0: 384x640 2 buss, 84 cars, 1 truck, 4 vans, 40.0ms\n",
            "Speed: 2.9ms preprocess, 40.0ms inference, 1.4ms postprocess per image at shape (1, 3, 384, 640)\n",
            "\n",
            "0: 384x640 3 buss, 83 cars, 1 truck, 4 vans, 40.0ms\n",
            "Speed: 3.0ms preprocess, 40.0ms inference, 1.3ms postprocess per image at shape (1, 3, 384, 640)\n",
            "\n",
            "0: 384x640 4 buss, 82 cars, 1 truck, 4 vans, 40.0ms\n",
            "Speed: 3.0ms preprocess, 40.0ms inference, 1.4ms postprocess per image at shape (1, 3, 384, 640)\n",
            "\n",
            "0: 384x640 4 buss, 81 cars, 1 truck, 5 vans, 40.1ms\n",
            "Speed: 3.0ms preprocess, 40.1ms inference, 1.4ms postprocess per image at shape (1, 3, 384, 640)\n",
            "\n",
            "0: 384x640 3 buss, 82 cars, 1 truck, 5 vans, 40.0ms\n",
            "Speed: 3.0ms preprocess, 40.0ms inference, 1.5ms postprocess per image at shape (1, 3, 384, 640)\n",
            "\n",
            "0: 384x640 3 buss, 82 cars, 1 truck, 5 vans, 40.4ms\n",
            "Speed: 3.1ms preprocess, 40.4ms inference, 1.5ms postprocess per image at shape (1, 3, 384, 640)\n",
            "\n",
            "0: 384x640 4 buss, 81 cars, 1 truck, 5 vans, 40.0ms\n",
            "Speed: 2.8ms preprocess, 40.0ms inference, 1.9ms postprocess per image at shape (1, 3, 384, 640)\n",
            "\n",
            "0: 384x640 4 buss, 81 cars, 1 truck, 5 vans, 40.0ms\n",
            "Speed: 4.1ms preprocess, 40.0ms inference, 1.4ms postprocess per image at shape (1, 3, 384, 640)\n",
            "\n",
            "0: 384x640 3 buss, 81 cars, 2 trucks, 5 vans, 40.0ms\n",
            "Speed: 3.0ms preprocess, 40.0ms inference, 1.3ms postprocess per image at shape (1, 3, 384, 640)\n",
            "\n",
            "0: 384x640 3 buss, 83 cars, 2 trucks, 3 vans, 41.9ms\n",
            "Speed: 2.8ms preprocess, 41.9ms inference, 2.0ms postprocess per image at shape (1, 3, 384, 640)\n",
            "\n",
            "0: 384x640 3 buss, 82 cars, 2 trucks, 4 vans, 41.0ms\n",
            "Speed: 2.7ms preprocess, 41.0ms inference, 1.3ms postprocess per image at shape (1, 3, 384, 640)\n",
            "\n",
            "0: 384x640 4 buss, 82 cars, 1 truck, 4 vans, 41.1ms\n",
            "Speed: 3.1ms preprocess, 41.1ms inference, 1.4ms postprocess per image at shape (1, 3, 384, 640)\n",
            "\n",
            "0: 384x640 3 buss, 83 cars, 2 trucks, 3 vans, 40.0ms\n",
            "Speed: 4.1ms preprocess, 40.0ms inference, 1.4ms postprocess per image at shape (1, 3, 384, 640)\n",
            "\n",
            "0: 384x640 3 buss, 83 cars, 2 trucks, 3 vans, 40.0ms\n",
            "Speed: 2.8ms preprocess, 40.0ms inference, 1.5ms postprocess per image at shape (1, 3, 384, 640)\n",
            "\n",
            "0: 384x640 4 buss, 83 cars, 1 truck, 3 vans, 40.1ms\n",
            "Speed: 3.2ms preprocess, 40.1ms inference, 1.3ms postprocess per image at shape (1, 3, 384, 640)\n",
            "\n",
            "0: 384x640 4 buss, 83 cars, 1 truck, 3 vans, 40.0ms\n",
            "Speed: 3.1ms preprocess, 40.0ms inference, 1.4ms postprocess per image at shape (1, 3, 384, 640)\n",
            "\n",
            "0: 384x640 3 buss, 84 cars, 1 truck, 3 vans, 40.0ms\n",
            "Speed: 3.0ms preprocess, 40.0ms inference, 1.3ms postprocess per image at shape (1, 3, 384, 640)\n",
            "\n",
            "0: 384x640 3 buss, 84 cars, 1 truck, 3 vans, 40.0ms\n",
            "Speed: 3.0ms preprocess, 40.0ms inference, 1.3ms postprocess per image at shape (1, 3, 384, 640)\n",
            "\n",
            "0: 384x640 3 buss, 83 cars, 2 trucks, 3 vans, 40.0ms\n",
            "Speed: 3.0ms preprocess, 40.0ms inference, 1.3ms postprocess per image at shape (1, 3, 384, 640)\n",
            "\n",
            "0: 384x640 3 buss, 83 cars, 2 trucks, 3 vans, 40.1ms\n",
            "Speed: 3.5ms preprocess, 40.1ms inference, 1.5ms postprocess per image at shape (1, 3, 384, 640)\n",
            "\n",
            "0: 384x640 3 buss, 83 cars, 2 trucks, 3 vans, 40.0ms\n",
            "Speed: 3.6ms preprocess, 40.0ms inference, 1.6ms postprocess per image at shape (1, 3, 384, 640)\n",
            "\n",
            "0: 384x640 3 buss, 83 cars, 2 trucks, 3 vans, 40.0ms\n",
            "Speed: 3.0ms preprocess, 40.0ms inference, 1.4ms postprocess per image at shape (1, 3, 384, 640)\n",
            "\n",
            "0: 384x640 3 buss, 82 cars, 2 trucks, 4 vans, 40.0ms\n",
            "Speed: 2.9ms preprocess, 40.0ms inference, 1.4ms postprocess per image at shape (1, 3, 384, 640)\n",
            "\n",
            "0: 384x640 3 buss, 82 cars, 2 trucks, 4 vans, 40.0ms\n",
            "Speed: 3.6ms preprocess, 40.0ms inference, 1.4ms postprocess per image at shape (1, 3, 384, 640)\n",
            "\n",
            "0: 384x640 3 buss, 82 cars, 2 trucks, 4 vans, 40.1ms\n",
            "Speed: 2.8ms preprocess, 40.1ms inference, 1.3ms postprocess per image at shape (1, 3, 384, 640)\n",
            "\n",
            "0: 384x640 4 buss, 81 cars, 2 trucks, 4 vans, 40.3ms\n",
            "Speed: 3.6ms preprocess, 40.3ms inference, 1.4ms postprocess per image at shape (1, 3, 384, 640)\n",
            "\n",
            "0: 384x640 4 buss, 81 cars, 2 trucks, 4 vans, 41.5ms\n",
            "Speed: 3.0ms preprocess, 41.5ms inference, 1.5ms postprocess per image at shape (1, 3, 384, 640)\n",
            "\n",
            "0: 384x640 3 buss, 85 cars, 2 trucks, 2 vans, 43.2ms\n",
            "Speed: 2.7ms preprocess, 43.2ms inference, 1.3ms postprocess per image at shape (1, 3, 384, 640)\n",
            "\n",
            "0: 384x640 3 buss, 84 cars, 2 trucks, 3 vans, 42.6ms\n",
            "Speed: 2.8ms preprocess, 42.6ms inference, 1.5ms postprocess per image at shape (1, 3, 384, 640)\n",
            "\n",
            "0: 384x640 3 buss, 84 cars, 3 trucks, 2 vans, 41.1ms\n",
            "Speed: 3.3ms preprocess, 41.1ms inference, 1.5ms postprocess per image at shape (1, 3, 384, 640)\n",
            "\n",
            "0: 384x640 3 buss, 84 cars, 2 trucks, 3 vans, 40.0ms\n",
            "Speed: 6.1ms preprocess, 40.0ms inference, 1.4ms postprocess per image at shape (1, 3, 384, 640)\n",
            "\n",
            "0: 384x640 3 buss, 85 cars, 2 trucks, 2 vans, 40.1ms\n",
            "Speed: 3.1ms preprocess, 40.1ms inference, 1.7ms postprocess per image at shape (1, 3, 384, 640)\n",
            "\n",
            "0: 384x640 3 buss, 83 cars, 2 trucks, 3 vans, 40.0ms\n",
            "Speed: 3.0ms preprocess, 40.0ms inference, 1.7ms postprocess per image at shape (1, 3, 384, 640)\n",
            "\n",
            "0: 384x640 4 buss, 84 cars, 1 truck, 3 vans, 40.0ms\n",
            "Speed: 3.2ms preprocess, 40.0ms inference, 2.6ms postprocess per image at shape (1, 3, 384, 640)\n",
            "\n",
            "0: 384x640 3 buss, 84 cars, 2 trucks, 3 vans, 43.7ms\n",
            "Speed: 3.9ms preprocess, 43.7ms inference, 1.8ms postprocess per image at shape (1, 3, 384, 640)\n",
            "\n",
            "0: 384x640 3 buss, 84 cars, 2 trucks, 3 vans, 40.2ms\n",
            "Speed: 11.3ms preprocess, 40.2ms inference, 3.3ms postprocess per image at shape (1, 3, 384, 640)\n",
            "\n",
            "0: 384x640 3 buss, 85 cars, 1 truck, 3 vans, 40.0ms\n",
            "Speed: 3.3ms preprocess, 40.0ms inference, 1.7ms postprocess per image at shape (1, 3, 384, 640)\n",
            "\n",
            "0: 384x640 3 buss, 86 cars, 2 trucks, 3 vans, 40.0ms\n",
            "Speed: 3.2ms preprocess, 40.0ms inference, 1.6ms postprocess per image at shape (1, 3, 384, 640)\n",
            "\n",
            "0: 384x640 3 buss, 87 cars, 1 truck, 3 vans, 45.1ms\n",
            "Speed: 3.1ms preprocess, 45.1ms inference, 2.3ms postprocess per image at shape (1, 3, 384, 640)\n",
            "\n",
            "0: 384x640 3 buss, 87 cars, 1 truck, 3 vans, 47.1ms\n",
            "Speed: 4.0ms preprocess, 47.1ms inference, 1.7ms postprocess per image at shape (1, 3, 384, 640)\n",
            "\n",
            "0: 384x640 3 buss, 86 cars, 2 trucks, 3 vans, 48.5ms\n",
            "Speed: 3.0ms preprocess, 48.5ms inference, 2.0ms postprocess per image at shape (1, 3, 384, 640)\n",
            "\n",
            "0: 384x640 3 buss, 86 cars, 2 trucks, 3 vans, 62.7ms\n",
            "Speed: 7.2ms preprocess, 62.7ms inference, 6.0ms postprocess per image at shape (1, 3, 384, 640)\n",
            "\n",
            "0: 384x640 3 buss, 86 cars, 2 trucks, 3 vans, 64.3ms\n",
            "Speed: 6.0ms preprocess, 64.3ms inference, 2.5ms postprocess per image at shape (1, 3, 384, 640)\n",
            "\n",
            "0: 384x640 3 buss, 86 cars, 2 trucks, 3 vans, 69.1ms\n",
            "Speed: 3.2ms preprocess, 69.1ms inference, 1.8ms postprocess per image at shape (1, 3, 384, 640)\n",
            "\n",
            "0: 384x640 3 buss, 86 cars, 2 trucks, 3 vans, 62.9ms\n",
            "Speed: 3.3ms preprocess, 62.9ms inference, 2.2ms postprocess per image at shape (1, 3, 384, 640)\n",
            "\n",
            "0: 384x640 3 buss, 86 cars, 2 trucks, 3 vans, 62.9ms\n",
            "Speed: 3.2ms preprocess, 62.9ms inference, 2.0ms postprocess per image at shape (1, 3, 384, 640)\n",
            "\n",
            "0: 384x640 3 buss, 86 cars, 2 trucks, 3 vans, 62.9ms\n",
            "Speed: 8.2ms preprocess, 62.9ms inference, 2.2ms postprocess per image at shape (1, 3, 384, 640)\n",
            "\n",
            "0: 384x640 3 buss, 86 cars, 2 trucks, 3 vans, 62.9ms\n",
            "Speed: 3.3ms preprocess, 62.9ms inference, 2.1ms postprocess per image at shape (1, 3, 384, 640)\n",
            "\n",
            "0: 384x640 4 buss, 86 cars, 1 truck, 3 vans, 62.9ms\n",
            "Speed: 3.1ms preprocess, 62.9ms inference, 2.2ms postprocess per image at shape (1, 3, 384, 640)\n",
            "\n",
            "0: 384x640 3 buss, 86 cars, 2 trucks, 3 vans, 62.9ms\n",
            "Speed: 3.2ms preprocess, 62.9ms inference, 2.1ms postprocess per image at shape (1, 3, 384, 640)\n",
            "\n",
            "0: 384x640 3 buss, 88 cars, 2 trucks, 2 vans, 62.9ms\n",
            "Speed: 3.2ms preprocess, 62.9ms inference, 2.1ms postprocess per image at shape (1, 3, 384, 640)\n",
            "\n",
            "0: 384x640 3 buss, 87 cars, 2 trucks, 3 vans, 74.5ms\n",
            "Speed: 3.1ms preprocess, 74.5ms inference, 2.0ms postprocess per image at shape (1, 3, 384, 640)\n",
            "\n",
            "0: 384x640 3 buss, 89 cars, 2 trucks, 2 vans, 62.9ms\n",
            "Speed: 3.0ms preprocess, 62.9ms inference, 2.1ms postprocess per image at shape (1, 3, 384, 640)\n",
            "\n",
            "0: 384x640 3 buss, 88 cars, 2 trucks, 3 vans, 62.9ms\n",
            "Speed: 3.3ms preprocess, 62.9ms inference, 2.0ms postprocess per image at shape (1, 3, 384, 640)\n",
            "\n",
            "0: 384x640 3 buss, 88 cars, 2 trucks, 3 vans, 64.6ms\n",
            "Speed: 3.2ms preprocess, 64.6ms inference, 1.8ms postprocess per image at shape (1, 3, 384, 640)\n",
            "\n",
            "0: 384x640 3 buss, 88 cars, 2 trucks, 3 vans, 62.9ms\n",
            "Speed: 3.1ms preprocess, 62.9ms inference, 1.9ms postprocess per image at shape (1, 3, 384, 640)\n",
            "\n",
            "0: 384x640 3 buss, 88 cars, 2 trucks, 3 vans, 62.9ms\n",
            "Speed: 3.2ms preprocess, 62.9ms inference, 2.0ms postprocess per image at shape (1, 3, 384, 640)\n",
            "\n",
            "0: 384x640 3 buss, 89 cars, 2 trucks, 3 vans, 62.9ms\n",
            "Speed: 3.2ms preprocess, 62.9ms inference, 2.0ms postprocess per image at shape (1, 3, 384, 640)\n",
            "\n",
            "0: 384x640 3 buss, 89 cars, 2 trucks, 3 vans, 71.7ms\n",
            "Speed: 3.2ms preprocess, 71.7ms inference, 2.0ms postprocess per image at shape (1, 3, 384, 640)\n",
            "\n",
            "0: 384x640 3 buss, 88 cars, 2 trucks, 3 vans, 62.9ms\n",
            "Speed: 3.3ms preprocess, 62.9ms inference, 2.4ms postprocess per image at shape (1, 3, 384, 640)\n",
            "\n",
            "0: 384x640 3 buss, 88 cars, 2 trucks, 3 vans, 63.6ms\n",
            "Speed: 3.5ms preprocess, 63.6ms inference, 2.1ms postprocess per image at shape (1, 3, 384, 640)\n",
            "\n",
            "0: 384x640 3 buss, 88 cars, 2 trucks, 3 vans, 63.4ms\n",
            "Speed: 4.0ms preprocess, 63.4ms inference, 2.1ms postprocess per image at shape (1, 3, 384, 640)\n",
            "\n",
            "0: 384x640 3 buss, 87 cars, 2 trucks, 3 vans, 62.9ms\n",
            "Speed: 11.6ms preprocess, 62.9ms inference, 2.0ms postprocess per image at shape (1, 3, 384, 640)\n",
            "\n",
            "0: 384x640 3 buss, 87 cars, 2 trucks, 3 vans, 68.1ms\n",
            "Speed: 2.7ms preprocess, 68.1ms inference, 2.1ms postprocess per image at shape (1, 3, 384, 640)\n",
            "\n",
            "0: 384x640 3 buss, 87 cars, 2 trucks, 3 vans, 62.9ms\n",
            "Speed: 5.9ms preprocess, 62.9ms inference, 1.8ms postprocess per image at shape (1, 3, 384, 640)\n",
            "\n",
            "0: 384x640 3 buss, 87 cars, 2 trucks, 3 vans, 66.7ms\n",
            "Speed: 3.2ms preprocess, 66.7ms inference, 22.7ms postprocess per image at shape (1, 3, 384, 640)\n",
            "\n",
            "0: 384x640 3 buss, 87 cars, 2 trucks, 3 vans, 62.9ms\n",
            "Speed: 3.3ms preprocess, 62.9ms inference, 11.7ms postprocess per image at shape (1, 3, 384, 640)\n",
            "\n",
            "0: 384x640 3 buss, 87 cars, 2 trucks, 3 vans, 62.9ms\n",
            "Speed: 3.2ms preprocess, 62.9ms inference, 2.0ms postprocess per image at shape (1, 3, 384, 640)\n",
            "\n",
            "0: 384x640 3 buss, 88 cars, 2 trucks, 3 vans, 62.9ms\n",
            "Speed: 3.2ms preprocess, 62.9ms inference, 2.1ms postprocess per image at shape (1, 3, 384, 640)\n",
            "\n",
            "0: 384x640 3 buss, 88 cars, 2 trucks, 3 vans, 76.9ms\n",
            "Speed: 3.2ms preprocess, 76.9ms inference, 2.1ms postprocess per image at shape (1, 3, 384, 640)\n",
            "\n",
            "0: 384x640 3 buss, 88 cars, 2 trucks, 3 vans, 62.9ms\n",
            "Speed: 18.2ms preprocess, 62.9ms inference, 2.2ms postprocess per image at shape (1, 3, 384, 640)\n",
            "\n",
            "0: 384x640 3 buss, 88 cars, 2 trucks, 3 vans, 66.7ms\n",
            "Speed: 3.2ms preprocess, 66.7ms inference, 1.7ms postprocess per image at shape (1, 3, 384, 640)\n",
            "\n",
            "0: 384x640 3 buss, 88 cars, 2 trucks, 3 vans, 62.9ms\n",
            "Speed: 3.2ms preprocess, 62.9ms inference, 1.8ms postprocess per image at shape (1, 3, 384, 640)\n",
            "\n",
            "0: 384x640 3 buss, 89 cars, 2 trucks, 2 vans, 62.9ms\n",
            "Speed: 3.3ms preprocess, 62.9ms inference, 2.1ms postprocess per image at shape (1, 3, 384, 640)\n",
            "\n",
            "0: 384x640 3 buss, 89 cars, 2 trucks, 2 vans, 62.9ms\n",
            "Speed: 3.1ms preprocess, 62.9ms inference, 2.2ms postprocess per image at shape (1, 3, 384, 640)\n",
            "\n",
            "0: 384x640 3 buss, 89 cars, 2 trucks, 2 vans, 69.2ms\n",
            "Speed: 3.1ms preprocess, 69.2ms inference, 1.9ms postprocess per image at shape (1, 3, 384, 640)\n",
            "\n",
            "0: 384x640 3 buss, 88 cars, 2 trucks, 3 vans, 64.3ms\n",
            "Speed: 6.0ms preprocess, 64.3ms inference, 2.0ms postprocess per image at shape (1, 3, 384, 640)\n",
            "\n",
            "0: 384x640 3 buss, 88 cars, 2 trucks, 3 vans, 65.5ms\n",
            "Speed: 4.1ms preprocess, 65.5ms inference, 2.1ms postprocess per image at shape (1, 3, 384, 640)\n",
            "\n",
            "0: 384x640 3 buss, 88 cars, 2 trucks, 3 vans, 62.9ms\n",
            "Speed: 4.1ms preprocess, 62.9ms inference, 2.3ms postprocess per image at shape (1, 3, 384, 640)\n",
            "\n",
            "0: 384x640 3 buss, 88 cars, 2 trucks, 3 vans, 64.7ms\n",
            "Speed: 10.2ms preprocess, 64.7ms inference, 2.2ms postprocess per image at shape (1, 3, 384, 640)\n",
            "\n",
            "0: 384x640 3 buss, 88 cars, 2 trucks, 3 vans, 62.9ms\n",
            "Speed: 3.2ms preprocess, 62.9ms inference, 2.3ms postprocess per image at shape (1, 3, 384, 640)\n",
            "\n",
            "0: 384x640 3 buss, 88 cars, 2 trucks, 3 vans, 77.0ms\n",
            "Speed: 6.0ms preprocess, 77.0ms inference, 2.5ms postprocess per image at shape (1, 3, 384, 640)\n",
            "\n",
            "0: 384x640 3 buss, 89 cars, 2 trucks, 3 vans, 64.6ms\n",
            "Speed: 17.5ms preprocess, 64.6ms inference, 2.1ms postprocess per image at shape (1, 3, 384, 640)\n",
            "\n",
            "0: 384x640 3 buss, 89 cars, 2 trucks, 3 vans, 64.8ms\n",
            "Speed: 10.3ms preprocess, 64.8ms inference, 1.9ms postprocess per image at shape (1, 3, 384, 640)\n",
            "\n",
            "0: 384x640 3 buss, 89 cars, 2 trucks, 3 vans, 67.8ms\n",
            "Speed: 8.2ms preprocess, 67.8ms inference, 6.8ms postprocess per image at shape (1, 3, 384, 640)\n",
            "\n",
            "0: 384x640 3 buss, 89 cars, 2 trucks, 3 vans, 81.7ms\n",
            "Speed: 6.7ms preprocess, 81.7ms inference, 4.0ms postprocess per image at shape (1, 3, 384, 640)\n",
            "\n",
            "0: 384x640 3 buss, 89 cars, 2 trucks, 3 vans, 64.9ms\n",
            "Speed: 3.4ms preprocess, 64.9ms inference, 2.2ms postprocess per image at shape (1, 3, 384, 640)\n",
            "\n",
            "0: 384x640 3 buss, 89 cars, 2 trucks, 3 vans, 67.7ms\n",
            "Speed: 6.8ms preprocess, 67.7ms inference, 2.1ms postprocess per image at shape (1, 3, 384, 640)\n",
            "\n",
            "0: 384x640 3 buss, 89 cars, 2 trucks, 3 vans, 89.7ms\n",
            "Speed: 3.6ms preprocess, 89.7ms inference, 4.7ms postprocess per image at shape (1, 3, 384, 640)\n",
            "\n",
            "0: 384x640 3 buss, 89 cars, 2 trucks, 3 vans, 63.4ms\n",
            "Speed: 7.2ms preprocess, 63.4ms inference, 2.7ms postprocess per image at shape (1, 3, 384, 640)\n",
            "\n",
            "0: 384x640 3 buss, 89 cars, 2 trucks, 3 vans, 78.5ms\n",
            "Speed: 7.4ms preprocess, 78.5ms inference, 1.9ms postprocess per image at shape (1, 3, 384, 640)\n",
            "\n",
            "0: 384x640 3 buss, 89 cars, 2 trucks, 3 vans, 62.9ms\n",
            "Speed: 3.1ms preprocess, 62.9ms inference, 1.5ms postprocess per image at shape (1, 3, 384, 640)\n",
            "\n",
            "0: 384x640 3 buss, 89 cars, 2 trucks, 3 vans, 62.9ms\n",
            "Speed: 3.4ms preprocess, 62.9ms inference, 1.4ms postprocess per image at shape (1, 3, 384, 640)\n",
            "\n",
            "0: 384x640 3 buss, 90 cars, 2 trucks, 3 vans, 61.1ms\n",
            "Speed: 2.8ms preprocess, 61.1ms inference, 1.8ms postprocess per image at shape (1, 3, 384, 640)\n",
            "\n",
            "0: 384x640 3 buss, 90 cars, 2 trucks, 3 vans, 60.2ms\n",
            "Speed: 3.6ms preprocess, 60.2ms inference, 1.4ms postprocess per image at shape (1, 3, 384, 640)\n",
            "\n",
            "0: 384x640 3 buss, 91 cars, 2 trucks, 2 vans, 49.2ms\n",
            "Speed: 2.9ms preprocess, 49.2ms inference, 1.8ms postprocess per image at shape (1, 3, 384, 640)\n",
            "\n",
            "0: 384x640 3 buss, 91 cars, 2 trucks, 2 vans, 49.3ms\n",
            "Speed: 2.9ms preprocess, 49.3ms inference, 1.4ms postprocess per image at shape (1, 3, 384, 640)\n",
            "\n",
            "0: 384x640 4 buss, 91 cars, 1 truck, 2 vans, 49.3ms\n",
            "Speed: 3.0ms preprocess, 49.3ms inference, 1.4ms postprocess per image at shape (1, 3, 384, 640)\n",
            "\n",
            "0: 384x640 4 buss, 89 cars, 1 truck, 3 vans, 43.5ms\n",
            "Speed: 3.5ms preprocess, 43.5ms inference, 1.4ms postprocess per image at shape (1, 3, 384, 640)\n",
            "\n",
            "0: 384x640 3 buss, 91 cars, 1 truck, 2 vans, 43.4ms\n",
            "Speed: 2.9ms preprocess, 43.4ms inference, 1.4ms postprocess per image at shape (1, 3, 384, 640)\n",
            "\n",
            "0: 384x640 3 buss, 91 cars, 1 truck, 2 vans, 43.4ms\n",
            "Speed: 4.0ms preprocess, 43.4ms inference, 2.5ms postprocess per image at shape (1, 3, 384, 640)\n",
            "\n",
            "0: 384x640 4 buss, 90 cars, 1 truck, 2 vans, 43.5ms\n",
            "Speed: 3.4ms preprocess, 43.5ms inference, 1.6ms postprocess per image at shape (1, 3, 384, 640)\n",
            "\n",
            "0: 384x640 4 buss, 90 cars, 1 truck, 2 vans, 43.4ms\n",
            "Speed: 4.2ms preprocess, 43.4ms inference, 1.4ms postprocess per image at shape (1, 3, 384, 640)\n",
            "\n",
            "0: 384x640 3 buss, 90 cars, 2 trucks, 2 vans, 43.4ms\n",
            "Speed: 3.4ms preprocess, 43.4ms inference, 1.4ms postprocess per image at shape (1, 3, 384, 640)\n",
            "\n",
            "0: 384x640 3 buss, 90 cars, 2 trucks, 2 vans, 41.1ms\n",
            "Speed: 3.0ms preprocess, 41.1ms inference, 1.4ms postprocess per image at shape (1, 3, 384, 640)\n",
            "\n",
            "0: 384x640 3 buss, 91 cars, 1 truck, 2 vans, 40.0ms\n",
            "Speed: 2.8ms preprocess, 40.0ms inference, 1.4ms postprocess per image at shape (1, 3, 384, 640)\n",
            "\n",
            "0: 384x640 3 buss, 91 cars, 1 truck, 2 vans, 40.0ms\n",
            "Speed: 3.0ms preprocess, 40.0ms inference, 1.4ms postprocess per image at shape (1, 3, 384, 640)\n",
            "\n",
            "0: 384x640 3 buss, 91 cars, 1 truck, 2 vans, 40.1ms\n",
            "Speed: 3.0ms preprocess, 40.1ms inference, 1.3ms postprocess per image at shape (1, 3, 384, 640)\n",
            "\n",
            "0: 384x640 3 buss, 91 cars, 1 truck, 2 vans, 40.0ms\n",
            "Speed: 4.1ms preprocess, 40.0ms inference, 2.1ms postprocess per image at shape (1, 3, 384, 640)\n",
            "\n",
            "0: 384x640 3 buss, 90 cars, 1 truck, 2 vans, 40.1ms\n",
            "Speed: 3.3ms preprocess, 40.1ms inference, 1.4ms postprocess per image at shape (1, 3, 384, 640)\n",
            "\n",
            "0: 384x640 3 buss, 89 cars, 1 truck, 3 vans, 40.1ms\n",
            "Speed: 3.3ms preprocess, 40.1ms inference, 1.4ms postprocess per image at shape (1, 3, 384, 640)\n",
            "\n",
            "0: 384x640 3 buss, 89 cars, 1 truck, 3 vans, 40.0ms\n",
            "Speed: 3.3ms preprocess, 40.0ms inference, 1.4ms postprocess per image at shape (1, 3, 384, 640)\n",
            "\n",
            "0: 384x640 3 buss, 89 cars, 1 truck, 3 vans, 40.0ms\n",
            "Speed: 3.0ms preprocess, 40.0ms inference, 1.3ms postprocess per image at shape (1, 3, 384, 640)\n",
            "\n",
            "0: 384x640 3 buss, 88 cars, 1 truck, 4 vans, 40.0ms\n",
            "Speed: 3.3ms preprocess, 40.0ms inference, 1.5ms postprocess per image at shape (1, 3, 384, 640)\n",
            "\n",
            "0: 384x640 3 buss, 87 cars, 1 truck, 5 vans, 40.0ms\n",
            "Speed: 3.0ms preprocess, 40.0ms inference, 1.4ms postprocess per image at shape (1, 3, 384, 640)\n",
            "\n",
            "0: 384x640 3 buss, 87 cars, 1 truck, 5 vans, 40.0ms\n",
            "Speed: 3.0ms preprocess, 40.0ms inference, 1.4ms postprocess per image at shape (1, 3, 384, 640)\n",
            "\n",
            "0: 384x640 3 buss, 87 cars, 1 truck, 5 vans, 40.0ms\n",
            "Speed: 3.0ms preprocess, 40.0ms inference, 1.8ms postprocess per image at shape (1, 3, 384, 640)\n",
            "\n",
            "0: 384x640 3 buss, 87 cars, 1 truck, 5 vans, 41.1ms\n",
            "Speed: 3.0ms preprocess, 41.1ms inference, 1.3ms postprocess per image at shape (1, 3, 384, 640)\n",
            "\n",
            "0: 384x640 3 buss, 87 cars, 1 truck, 5 vans, 43.4ms\n",
            "Speed: 3.1ms preprocess, 43.4ms inference, 1.4ms postprocess per image at shape (1, 3, 384, 640)\n",
            "\n",
            "0: 384x640 3 buss, 87 cars, 1 truck, 4 vans, 43.4ms\n",
            "Speed: 3.0ms preprocess, 43.4ms inference, 1.4ms postprocess per image at shape (1, 3, 384, 640)\n",
            "\n",
            "0: 384x640 3 buss, 86 cars, 2 trucks, 4 vans, 40.9ms\n",
            "Speed: 3.0ms preprocess, 40.9ms inference, 1.4ms postprocess per image at shape (1, 3, 384, 640)\n",
            "\n",
            "0: 384x640 3 buss, 86 cars, 2 trucks, 4 vans, 40.0ms\n",
            "Speed: 2.9ms preprocess, 40.0ms inference, 1.3ms postprocess per image at shape (1, 3, 384, 640)\n",
            "\n",
            "0: 384x640 4 buss, 87 cars, 1 truck, 4 vans, 40.0ms\n",
            "Speed: 3.0ms preprocess, 40.0ms inference, 1.4ms postprocess per image at shape (1, 3, 384, 640)\n",
            "\n",
            "0: 384x640 4 buss, 86 cars, 1 truck, 5 vans, 40.0ms\n",
            "Speed: 2.9ms preprocess, 40.0ms inference, 1.6ms postprocess per image at shape (1, 3, 384, 640)\n",
            "\n",
            "0: 384x640 4 buss, 89 cars, 1 truck, 4 vans, 40.0ms\n",
            "Speed: 3.0ms preprocess, 40.0ms inference, 1.9ms postprocess per image at shape (1, 3, 384, 640)\n",
            "\n",
            "0: 384x640 4 buss, 90 cars, 1 truck, 4 vans, 40.0ms\n",
            "Speed: 2.9ms preprocess, 40.0ms inference, 1.4ms postprocess per image at shape (1, 3, 384, 640)\n",
            "\n",
            "0: 384x640 4 buss, 89 cars, 1 truck, 4 vans, 40.0ms\n",
            "Speed: 2.9ms preprocess, 40.0ms inference, 1.4ms postprocess per image at shape (1, 3, 384, 640)\n",
            "\n",
            "0: 384x640 4 buss, 89 cars, 1 truck, 4 vans, 40.0ms\n",
            "Speed: 2.9ms preprocess, 40.0ms inference, 1.5ms postprocess per image at shape (1, 3, 384, 640)\n",
            "\n",
            "0: 384x640 4 buss, 89 cars, 1 truck, 4 vans, 40.0ms\n",
            "Speed: 3.2ms preprocess, 40.0ms inference, 1.5ms postprocess per image at shape (1, 3, 384, 640)\n",
            "\n",
            "0: 384x640 3 buss, 88 cars, 1 truck, 5 vans, 40.0ms\n",
            "Speed: 2.5ms preprocess, 40.0ms inference, 1.4ms postprocess per image at shape (1, 3, 384, 640)\n",
            "\n",
            "0: 384x640 3 buss, 88 cars, 1 truck, 5 vans, 40.0ms\n",
            "Speed: 3.5ms preprocess, 40.0ms inference, 1.7ms postprocess per image at shape (1, 3, 384, 640)\n",
            "\n",
            "0: 384x640 3 buss, 89 cars, 1 truck, 4 vans, 40.0ms\n",
            "Speed: 3.3ms preprocess, 40.0ms inference, 1.4ms postprocess per image at shape (1, 3, 384, 640)\n",
            "\n",
            "0: 384x640 3 buss, 90 cars, 1 truck, 3 vans, 40.0ms\n",
            "Speed: 2.6ms preprocess, 40.0ms inference, 1.8ms postprocess per image at shape (1, 3, 384, 640)\n",
            "Video frame is empty or video processing has been successfully completed.\n"
          ]
        }
      ],
      "source": [
        "\n",
        "while cap.isOpened():\n",
        "    success, im0 = cap.read()\n",
        "    if not success:\n",
        "        print(\"the freme is empty or video is completed.\")\n",
        "        break\n",
        "\n",
        "    tracks = model.track(im0, persist=True, show=False)\n",
        "\n",
        "    for result in tracks:\n",
        "        for box in result.boxes:\n",
        "            x1, y1, x2, y2 = map(int, box.xyxy[0])\n",
        "            obj_id = int(box.id)\n",
        "            conf = float(box.conf)\n",
        "            cx = (x1 + x2) // 2  \n",
        "            cy = (y1 + y2) // 2  \n",
        "\n",
        "            if cy < top_line_points[0][1] and obj_id not in top_counted_ids:\n",
        "                top_count += 1\n",
        "                top_counted_ids.add(obj_id)\n",
        "            elif cy > bottom_line_points[0][1] and obj_id not in bottom_counted_ids:\n",
        "                bottom_count += 1\n",
        "                bottom_counted_ids.add(obj_id)\n",
        "            elif cx < left_line_points[0][0] and obj_id not in left_counted_ids:\n",
        "                left_count += 1\n",
        "                left_counted_ids.add(obj_id)\n",
        "            elif cx > right_line_points[0][0] and obj_id not in right_counted_ids:\n",
        "                right_count += 1\n",
        "                right_counted_ids.add(obj_id)\n",
        "\n",
        "            label = f'ID: {obj_id} Conf: {conf:.2f}'\n",
        "            cv2.rectangle(im0, (x1, y1), (x2, y2), (0, 255, 0), 2)\n",
        "            cv2.putText(im0, label, (x1, y1 - 10), cv2.FONT_HERSHEY_SIMPLEX, 0.5, (0, 255, 0), 2)\n",
        "\n",
        "    #  ROI lines\n",
        "    cv2.line(im0, top_line_points[0], top_line_points[1], (255, 0, 0), 2)\n",
        "    cv2.line(im0, bottom_line_points[0], bottom_line_points[1], (0, 255, 0), 2)\n",
        "    cv2.line(im0, left_line_points[0], left_line_points[1], (0, 0, 255), 2)\n",
        "    cv2.line(im0, right_line_points[0], right_line_points[1], (255, 255, 0), 2)\n",
        "\n",
        "    cv2.putText(im0, f\"Top Exit: {top_count}\", (10, 30), cv2.FONT_HERSHEY_SIMPLEX, 1, (255, 255, 255), 2)\n",
        "    cv2.putText(im0, f\"Bottom Exit: {bottom_count}\", (10, 70), cv2.FONT_HERSHEY_SIMPLEX, 1, (255, 255, 255), 2)\n",
        "    cv2.putText(im0, f\"Left Exit: {left_count}\", (10, 110), cv2.FONT_HERSHEY_SIMPLEX, 1, (255, 255, 255), 2)\n",
        "    cv2.putText(im0, f\"Right Exit: {right_count}\", (10, 150), cv2.FONT_HERSHEY_SIMPLEX, 1, (255, 255, 255), 2)\n",
        "\n",
        "    cv2.putText(im0, \"Rakan Al Rasheed\", (w - 300, 30), cv2.FONT_HERSHEY_SIMPLEX, 1, (0, 255, 0), 2)\n",
        "\n",
        "    video_writer.write(im0)\n",
        "\n",
        "cap.release()\n",
        "video_writer.release()\n",
        "cv2.destroyAllWindows()"
      ]
    },
    {
      "cell_type": "markdown",
      "id": "Dgi7JUdtOyuQ",
      "metadata": {
        "id": "Dgi7JUdtOyuQ"
      },
      "source": []
    },
    {
      "cell_type": "markdown",
      "id": "I0t2MXDuUSpq",
      "metadata": {
        "id": "I0t2MXDuUSpq"
      },
      "source": [
        "https://medium.com/@svr1052000/implementing-yolov8-for-car-counting-84b667adb29a"
      ]
    },
    {
      "cell_type": "markdown",
      "id": "71d3083e",
      "metadata": {
        "id": "71d3083e"
      },
      "source": [
        "## Save and Submit Your Work"
      ]
    },
    {
      "cell_type": "markdown",
      "id": "ae5e33ac",
      "metadata": {
        "id": "ae5e33ac"
      },
      "source": [
        "Submit both the notebook and the output video"
      ]
    }
  ],
  "metadata": {
    "accelerator": "GPU",
    "colab": {
      "gpuType": "T4",
      "provenance": []
    },
    "kernelspec": {
      "display_name": "Python 3",
      "name": "python3"
    },
    "language_info": {
      "codemirror_mode": {
        "name": "ipython",
        "version": 3
      },
      "file_extension": ".py",
      "mimetype": "text/x-python",
      "name": "python",
      "nbconvert_exporter": "python",
      "pygments_lexer": "ipython3",
      "version": "3.12.4"
    }
  },
  "nbformat": 4,
  "nbformat_minor": 5
}
